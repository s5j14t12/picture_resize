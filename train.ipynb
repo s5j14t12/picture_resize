{
 "cells": [
  {
   "cell_type": "code",
   "execution_count": 3,
   "metadata": {},,
   "source": [
    "import cv2\n",
    "import os\n",
    "import numpy as np\n",
    "hdir = \"./testdata/\"\n",
    "ldir = \"./testdata/\"\n",
    "lis = os.listdir(hdir)\n",
    "for i in range(len(lis)):\n",
    "    image = cv2.imread(hdir + lis[i])\n",
    "    img = cv2.resize(image, (3*image.shape[1], 3*image.shape[0]), interpolation=cv2.INTER_AREA)\n",
    "    cv2.imwrite(ldir + lis[i], img)\n",
    "print(\"done\")"
   ]
  },
  {
   "cell_type": "code",
   "execution_count": null,
   "metadata": {},
   "outputs": [],
   "source": []
  }
 ],
 "metadata": {
  "kernelspec": {
   "display_name": "Python 3",
   "language": "python",
   "name": "python3"
  },
  "language_info": {
   "codemirror_mode": {
    "name": "ipython",
    "version": 3
   },
   "file_extension": ".py",
   "mimetype": "text/x-python",
   "name": "python",
   "nbconvert_exporter": "python",
   "pygments_lexer": "ipython3",
   "version": "3.7.6"
  }
 },
 "nbformat": 4,
 "nbformat_minor": 4
}
